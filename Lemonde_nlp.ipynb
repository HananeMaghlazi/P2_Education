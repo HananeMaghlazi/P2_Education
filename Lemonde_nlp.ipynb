{
  "nbformat": 4,
  "nbformat_minor": 0,
  "metadata": {
    "colab": {
      "provenance": [],
      "authorship_tag": "ABX9TyP84F5/mkJxAB97kNGcB2wL",
      "include_colab_link": true
    },
    "kernelspec": {
      "name": "python3",
      "display_name": "Python 3"
    },
    "language_info": {
      "name": "python"
    }
  },
  "cells": [
    {
      "cell_type": "markdown",
      "metadata": {
        "id": "view-in-github",
        "colab_type": "text"
      },
      "source": [
        "<a href=\"https://colab.research.google.com/github/HananeMaghlazi/P2_Education/blob/main/Lemonde_nlp.ipynb\" target=\"_parent\"><img src=\"https://colab.research.google.com/assets/colab-badge.svg\" alt=\"Open In Colab\"/></a>"
      ]
    },
    {
      "cell_type": "code",
      "execution_count": 1,
      "metadata": {
        "id": "BkrJVQHRsVk4"
      },
      "outputs": [],
      "source": [
        "# Import des librairies\n",
        "import re,os,glob,time\n",
        "from pathlib import Path\n",
        "import pandas as pd \n",
        "import numpy as np\n",
        "import math\n",
        "from numpy import arange\n",
        "import seaborn as sns\n",
        "import matplotlib.pyplot as plt\n",
        "# Pour les warnings\n",
        "import warnings\n",
        "warnings.filterwarnings('ignore')\n",
        "# Pour le traitement de texte\n",
        "import nltk\n",
        "from collections import Counter\n",
        "from wordcloud import WordCloud, STOPWORDS, ImageColorGenerator\n",
        "from nltk.corpus import stopwords\n",
        "import nltk\n",
        "from nltk.tokenize import (\n",
        "    sent_tokenize,\n",
        "    word_tokenize,\n",
        "    wordpunct_tokenize,\n",
        ")\n",
        "from nltk.tokenize import RegexpTokenizer\n",
        "from nltk.corpus import stopwords\n",
        "from nltk.stem import WordNetLemmatizer\n",
        "from sklearn.feature_extraction.text import CountVectorizer, TfidfVectorizer\n",
        "from sklearn import cluster, metrics\n",
        "from sklearn import manifold, decomposition\n",
        "import pyarrow.parquet as pq"
      ]
    },
    {
      "cell_type": "code",
      "source": [
        "#Modification des paramètres d'affichages des colonnes, lignes et largeurs des colonnes pour obtenir le \n",
        "#plus d'informations\n",
        "pd.set_option('display.max_columns', 200)\n",
        "pd.set_option('display.max_rows', 1000)\n",
        "pd.set_option('display.max_colwidth', None)\n",
        "pd.set_option('float_format',lambda x: \"%.4f\" % x)"
      ],
      "metadata": {
        "id": "pscpD2G0mBFH"
      },
      "execution_count": 2,
      "outputs": []
    },
    {
      "cell_type": "markdown",
      "source": [
        "Installation nltk"
      ],
      "metadata": {
        "id": "Zjeqi_l3kNxX"
      }
    },
    {
      "cell_type": "code",
      "source": [
        "pip install nltk"
      ],
      "metadata": {
        "colab": {
          "base_uri": "https://localhost:8080/"
        },
        "id": "Ljnxm5EvuD1L",
        "outputId": "67f0a2e1-6229-4bc8-aabc-fa4c417a0e1c"
      },
      "execution_count": 3,
      "outputs": [
        {
          "output_type": "stream",
          "name": "stdout",
          "text": [
            "Looking in indexes: https://pypi.org/simple, https://us-python.pkg.dev/colab-wheels/public/simple/\n",
            "Requirement already satisfied: nltk in /usr/local/lib/python3.9/dist-packages (3.7)\n",
            "Requirement already satisfied: click in /usr/local/lib/python3.9/dist-packages (from nltk) (8.1.3)\n",
            "Requirement already satisfied: regex>=2021.8.3 in /usr/local/lib/python3.9/dist-packages (from nltk) (2022.6.2)\n",
            "Requirement already satisfied: tqdm in /usr/local/lib/python3.9/dist-packages (from nltk) (4.65.0)\n",
            "Requirement already satisfied: joblib in /usr/local/lib/python3.9/dist-packages (from nltk) (1.1.1)\n"
          ]
        }
      ]
    },
    {
      "cell_type": "code",
      "source": [
        "# Monter le drive\n",
        "from google.colab import drive\n",
        "drive.mount('/content/drive')"
      ],
      "metadata": {
        "colab": {
          "base_uri": "https://localhost:8080/"
        },
        "id": "JYZAyszFsWKU",
        "outputId": "799eee85-a241-45b0-a041-619865036cb0"
      },
      "execution_count": 15,
      "outputs": [
        {
          "output_type": "stream",
          "name": "stdout",
          "text": [
            "Mounted at /content/drive\n"
          ]
        }
      ]
    },
    {
      "cell_type": "markdown",
      "source": [
        "Lecture des fichiers parquets"
      ],
      "metadata": {
        "id": "Tr2y9QRukThE"
      }
    },
    {
      "cell_type": "code",
      "source": [
        "df = pd.read_parquet('/content/drive/MyDrive/climat')\n",
        "df.head()"
      ],
      "metadata": {
        "colab": {
          "base_uri": "https://localhost:8080/",
          "height": 1000
        },
        "id": "ZePVChjmtgg8",
        "outputId": "f6a71c37-ba33-43b1-9e5f-24abaf3c01d1"
      },
      "execution_count": 16,
      "outputs": [
        {
          "output_type": "execute_result",
          "data": {
            "text/plain": [
              "                                                                                                                                                                                                              url  \\\n",
              "64318                                                             https://www.lemonde.fr/disparitions/article/2022/12/31/barbara-walters-legende-de-la-television-americaine-est-morte-a-93-ans_6156166_3382.html   \n",
              "64319                                                        https://www.lemonde.fr/international/article/2022/12/31/entre-la-syrie-et-la-turquie-un-premier-pas-officiel-vers-un-rapprochement_6156164_3210.html   \n",
              "64320                               https://www.lemonde.fr/argent/article/2022/12/31/passoires-thermiques-timbres-smic-gaz-carburant-ce-qui-change-le-1er-janvier-pour-le-budget-des-menages_6156161_1657007.html   \n",
              "64321      https://www.lemonde.fr/idees/article/2022/12/31/en-guyane-la-transition-energetique-ne-se-fera-pas-en-niant-les-droits-des-peuples-autochtones-et-en-saccageant-la-foret-amazonienne_6156169_3232.html   \n",
              "64322  https://www.lemonde.fr/idees/article/2022/12/31/mort-de-mahsa-amini-la-seule-maniere-de-mettre-fin-a-la-crise-en-iran-est-d-en-finir-avec-l-intervention-des-religieux-dans-la-politique_6156168_3232.html   \n",
              "\n",
              "       news news_publication publication_name publication_language  \\\n",
              "64318  None             None         Le Monde                   fr   \n",
              "64319  None             None         Le Monde                   fr   \n",
              "64320  None             None         Le Monde                   fr   \n",
              "64321  None             None         Le Monde                   fr   \n",
              "64322  None             None         Le Monde                   fr   \n",
              "\n",
              "      news_publication_date  \\\n",
              "64318   2022-12-31 10:00:26   \n",
              "64319   2022-12-31 14:43:55   \n",
              "64320   2022-12-31 06:01:39   \n",
              "64321   2022-12-31 08:00:20   \n",
              "64322   2022-12-31 08:00:10   \n",
              "\n",
              "                                                                                                                                           news_title  \\\n",
              "64318                                                                        Barbara Walters, légende de la télévision américaine, est morte à 93 ans   \n",
              "64319                                                                     Entre la Syrie et la Turquie, un premier pas officiel vers un rapprochement   \n",
              "64320                                   Passoires thermiques, timbres, smic, gaz, carburant : ce qui change le 1er janvier pour le budget des ménages   \n",
              "64321       En Guyane, « la transition énergétique ne se fera pas en niant les droits des peuples autochtones et en saccageant la forêt amazonienne »   \n",
              "64322  Mort de Mahsa Amini : « La seule manière de mettre fin à la crise en Iran est d’en finir avec l’intervention des religieux dans la politique »   \n",
              "\n",
              "      news_keywords image  \\\n",
              "64318          None  None   \n",
              "64319          None  None   \n",
              "64320          None  None   \n",
              "64321          None  None   \n",
              "64322          None  None   \n",
              "\n",
              "                                                                                                                                           image_loc  \\\n",
              "64318  https://img.lemde.fr/2022/12/31/307/0/2852/1426/1440/720/60/0/2aefa65_6ecc96ea1de147f3a8667f420f8ca74a-0-4957a456686b4458a6dda828748cb38c.jpg   \n",
              "64319                                       https://img.lemde.fr/2022/12/30/273/0/3277/1638/1440/720/60/0/eab1351_1672390913048-ap22203813165385.jpg   \n",
              "64320                              https://img.lemde.fr/2022/12/29/0/0/12000/6000/1440/720/60/0/c2dc5d0_1672331682749-080-hl-hpassarello-1045946.jpg   \n",
              "64321                           https://img.lemde.fr/2021/05/24/118/0/1600/800/1440/720/60/0/bc641a8_712450648-09-tgy7363-tanguystoeckle-preview.jpg   \n",
              "64322                                               https://img.lemde.fr/2022/10/08/291/0/3500/1750/1440/720/60/0/73acbf5_fw1-iran-women-0918-11.jpg   \n",
              "\n",
              "                                                                                                                                                                                    image_caption  \\\n",
              "64318                                                                                                                              Barbara Walters, le 7 octobre 2014, à l’université de Harvard.   \n",
              "64319  Le ministre russe de la défense, Sergueï Choïgou, à gauche, et son homologue turc, Hulusi Akar, se serrent la main lors d’une réunion à Istanbul, en Turquie, le vendredi 22 juillet 2022.   \n",
              "64320                                                                                                     Devant une borne de rechargement du passe Navigo, dans le métro parisien, en mars 2020.   \n",
              "64321                                                                                                                               Dans la réserve naturelle nationale des Nouragues, en Guyane.   \n",
              "64322                                                                                                                                                                                        None   \n",
              "\n",
              "                                       sitemap  \\\n",
              "64318  https://www.lemonde.fr/sitemap_news.xml   \n",
              "64319  https://www.lemonde.fr/sitemap_news.xml   \n",
              "64320  https://www.lemonde.fr/sitemap_news.xml   \n",
              "64321  https://www.lemonde.fr/sitemap_news.xml   \n",
              "64322  https://www.lemonde.fr/sitemap_news.xml   \n",
              "\n",
              "                                     etag     sitemap_last_modified  \\\n",
              "64318  \"597c9bf8fc520caad7935c42820685ff\" 2023-01-01 01:47:06+00:00   \n",
              "64319  \"597c9bf8fc520caad7935c42820685ff\" 2023-01-01 01:47:06+00:00   \n",
              "64320  \"597c9bf8fc520caad7935c42820685ff\" 2023-01-01 01:47:06+00:00   \n",
              "64321  \"597c9bf8fc520caad7935c42820685ff\" 2023-01-01 01:47:06+00:00   \n",
              "64322  \"597c9bf8fc520caad7935c42820685ff\" 2023-01-01 01:47:06+00:00   \n",
              "\n",
              "       sitemap_size_mb       download_date    media                   section  \\\n",
              "64318           0.1021 2023-01-01 01:48:03  lemonde   [disparitions, article]   \n",
              "64319           0.1021 2023-01-01 01:48:03  lemonde  [international, article]   \n",
              "64320           0.1021 2023-01-01 01:48:03  lemonde         [argent, article]   \n",
              "64321           0.1021 2023-01-01 01:48:03  lemonde          [idees, article]   \n",
              "64322           0.1021 2023-01-01 01:48:03  lemonde          [idees, article]   \n",
              "\n",
              "      changefreq news_access image_title                   lastmod  \\\n",
              "64318       None        None        None 2022-12-31 09:00:26+00:00   \n",
              "64319       None        None        None 2022-12-31 13:43:55+00:00   \n",
              "64320       None        None        None 2022-12-31 05:01:39+00:00   \n",
              "64321       None        None        None 2022-12-31 07:00:20+00:00   \n",
              "64322       None        None        None 2022-12-31 07:00:10+00:00   \n",
              "\n",
              "      news_genres  priority  download_date_last media_type  \n",
              "64318        None       NaN 2023-01-02 01:28:02   webpress  \n",
              "64319        None       NaN 2023-01-02 01:28:02   webpress  \n",
              "64320        None       NaN 2023-01-02 01:28:02   webpress  \n",
              "64321        None       NaN 2023-01-02 01:28:02   webpress  \n",
              "64322        None       NaN 2023-01-02 01:28:02   webpress  "
            ],
            "text/html": [
              "\n",
              "  <div id=\"df-8022b6c0-f018-4e3a-8f68-8c65ab45a3c8\">\n",
              "    <div class=\"colab-df-container\">\n",
              "      <div>\n",
              "<style scoped>\n",
              "    .dataframe tbody tr th:only-of-type {\n",
              "        vertical-align: middle;\n",
              "    }\n",
              "\n",
              "    .dataframe tbody tr th {\n",
              "        vertical-align: top;\n",
              "    }\n",
              "\n",
              "    .dataframe thead th {\n",
              "        text-align: right;\n",
              "    }\n",
              "</style>\n",
              "<table border=\"1\" class=\"dataframe\">\n",
              "  <thead>\n",
              "    <tr style=\"text-align: right;\">\n",
              "      <th></th>\n",
              "      <th>url</th>\n",
              "      <th>news</th>\n",
              "      <th>news_publication</th>\n",
              "      <th>publication_name</th>\n",
              "      <th>publication_language</th>\n",
              "      <th>news_publication_date</th>\n",
              "      <th>news_title</th>\n",
              "      <th>news_keywords</th>\n",
              "      <th>image</th>\n",
              "      <th>image_loc</th>\n",
              "      <th>image_caption</th>\n",
              "      <th>sitemap</th>\n",
              "      <th>etag</th>\n",
              "      <th>sitemap_last_modified</th>\n",
              "      <th>sitemap_size_mb</th>\n",
              "      <th>download_date</th>\n",
              "      <th>media</th>\n",
              "      <th>section</th>\n",
              "      <th>changefreq</th>\n",
              "      <th>news_access</th>\n",
              "      <th>image_title</th>\n",
              "      <th>lastmod</th>\n",
              "      <th>news_genres</th>\n",
              "      <th>priority</th>\n",
              "      <th>download_date_last</th>\n",
              "      <th>media_type</th>\n",
              "    </tr>\n",
              "  </thead>\n",
              "  <tbody>\n",
              "    <tr>\n",
              "      <th>64318</th>\n",
              "      <td>https://www.lemonde.fr/disparitions/article/2022/12/31/barbara-walters-legende-de-la-television-americaine-est-morte-a-93-ans_6156166_3382.html</td>\n",
              "      <td>None</td>\n",
              "      <td>None</td>\n",
              "      <td>Le Monde</td>\n",
              "      <td>fr</td>\n",
              "      <td>2022-12-31 10:00:26</td>\n",
              "      <td>Barbara Walters, légende de la télévision américaine, est morte à 93 ans</td>\n",
              "      <td>None</td>\n",
              "      <td>None</td>\n",
              "      <td>https://img.lemde.fr/2022/12/31/307/0/2852/1426/1440/720/60/0/2aefa65_6ecc96ea1de147f3a8667f420f8ca74a-0-4957a456686b4458a6dda828748cb38c.jpg</td>\n",
              "      <td>Barbara Walters, le 7 octobre 2014, à l’université de Harvard.</td>\n",
              "      <td>https://www.lemonde.fr/sitemap_news.xml</td>\n",
              "      <td>\"597c9bf8fc520caad7935c42820685ff\"</td>\n",
              "      <td>2023-01-01 01:47:06+00:00</td>\n",
              "      <td>0.1021</td>\n",
              "      <td>2023-01-01 01:48:03</td>\n",
              "      <td>lemonde</td>\n",
              "      <td>[disparitions, article]</td>\n",
              "      <td>None</td>\n",
              "      <td>None</td>\n",
              "      <td>None</td>\n",
              "      <td>2022-12-31 09:00:26+00:00</td>\n",
              "      <td>None</td>\n",
              "      <td>NaN</td>\n",
              "      <td>2023-01-02 01:28:02</td>\n",
              "      <td>webpress</td>\n",
              "    </tr>\n",
              "    <tr>\n",
              "      <th>64319</th>\n",
              "      <td>https://www.lemonde.fr/international/article/2022/12/31/entre-la-syrie-et-la-turquie-un-premier-pas-officiel-vers-un-rapprochement_6156164_3210.html</td>\n",
              "      <td>None</td>\n",
              "      <td>None</td>\n",
              "      <td>Le Monde</td>\n",
              "      <td>fr</td>\n",
              "      <td>2022-12-31 14:43:55</td>\n",
              "      <td>Entre la Syrie et la Turquie, un premier pas officiel vers un rapprochement</td>\n",
              "      <td>None</td>\n",
              "      <td>None</td>\n",
              "      <td>https://img.lemde.fr/2022/12/30/273/0/3277/1638/1440/720/60/0/eab1351_1672390913048-ap22203813165385.jpg</td>\n",
              "      <td>Le ministre russe de la défense, Sergueï Choïgou, à gauche, et son homologue turc, Hulusi Akar, se serrent la main lors d’une réunion à Istanbul, en Turquie, le vendredi 22 juillet 2022.</td>\n",
              "      <td>https://www.lemonde.fr/sitemap_news.xml</td>\n",
              "      <td>\"597c9bf8fc520caad7935c42820685ff\"</td>\n",
              "      <td>2023-01-01 01:47:06+00:00</td>\n",
              "      <td>0.1021</td>\n",
              "      <td>2023-01-01 01:48:03</td>\n",
              "      <td>lemonde</td>\n",
              "      <td>[international, article]</td>\n",
              "      <td>None</td>\n",
              "      <td>None</td>\n",
              "      <td>None</td>\n",
              "      <td>2022-12-31 13:43:55+00:00</td>\n",
              "      <td>None</td>\n",
              "      <td>NaN</td>\n",
              "      <td>2023-01-02 01:28:02</td>\n",
              "      <td>webpress</td>\n",
              "    </tr>\n",
              "    <tr>\n",
              "      <th>64320</th>\n",
              "      <td>https://www.lemonde.fr/argent/article/2022/12/31/passoires-thermiques-timbres-smic-gaz-carburant-ce-qui-change-le-1er-janvier-pour-le-budget-des-menages_6156161_1657007.html</td>\n",
              "      <td>None</td>\n",
              "      <td>None</td>\n",
              "      <td>Le Monde</td>\n",
              "      <td>fr</td>\n",
              "      <td>2022-12-31 06:01:39</td>\n",
              "      <td>Passoires thermiques, timbres, smic, gaz, carburant : ce qui change le 1er janvier pour le budget des ménages</td>\n",
              "      <td>None</td>\n",
              "      <td>None</td>\n",
              "      <td>https://img.lemde.fr/2022/12/29/0/0/12000/6000/1440/720/60/0/c2dc5d0_1672331682749-080-hl-hpassarello-1045946.jpg</td>\n",
              "      <td>Devant une borne de rechargement du passe Navigo, dans le métro parisien, en mars 2020.</td>\n",
              "      <td>https://www.lemonde.fr/sitemap_news.xml</td>\n",
              "      <td>\"597c9bf8fc520caad7935c42820685ff\"</td>\n",
              "      <td>2023-01-01 01:47:06+00:00</td>\n",
              "      <td>0.1021</td>\n",
              "      <td>2023-01-01 01:48:03</td>\n",
              "      <td>lemonde</td>\n",
              "      <td>[argent, article]</td>\n",
              "      <td>None</td>\n",
              "      <td>None</td>\n",
              "      <td>None</td>\n",
              "      <td>2022-12-31 05:01:39+00:00</td>\n",
              "      <td>None</td>\n",
              "      <td>NaN</td>\n",
              "      <td>2023-01-02 01:28:02</td>\n",
              "      <td>webpress</td>\n",
              "    </tr>\n",
              "    <tr>\n",
              "      <th>64321</th>\n",
              "      <td>https://www.lemonde.fr/idees/article/2022/12/31/en-guyane-la-transition-energetique-ne-se-fera-pas-en-niant-les-droits-des-peuples-autochtones-et-en-saccageant-la-foret-amazonienne_6156169_3232.html</td>\n",
              "      <td>None</td>\n",
              "      <td>None</td>\n",
              "      <td>Le Monde</td>\n",
              "      <td>fr</td>\n",
              "      <td>2022-12-31 08:00:20</td>\n",
              "      <td>En Guyane, « la transition énergétique ne se fera pas en niant les droits des peuples autochtones et en saccageant la forêt amazonienne »</td>\n",
              "      <td>None</td>\n",
              "      <td>None</td>\n",
              "      <td>https://img.lemde.fr/2021/05/24/118/0/1600/800/1440/720/60/0/bc641a8_712450648-09-tgy7363-tanguystoeckle-preview.jpg</td>\n",
              "      <td>Dans la réserve naturelle nationale des Nouragues, en Guyane.</td>\n",
              "      <td>https://www.lemonde.fr/sitemap_news.xml</td>\n",
              "      <td>\"597c9bf8fc520caad7935c42820685ff\"</td>\n",
              "      <td>2023-01-01 01:47:06+00:00</td>\n",
              "      <td>0.1021</td>\n",
              "      <td>2023-01-01 01:48:03</td>\n",
              "      <td>lemonde</td>\n",
              "      <td>[idees, article]</td>\n",
              "      <td>None</td>\n",
              "      <td>None</td>\n",
              "      <td>None</td>\n",
              "      <td>2022-12-31 07:00:20+00:00</td>\n",
              "      <td>None</td>\n",
              "      <td>NaN</td>\n",
              "      <td>2023-01-02 01:28:02</td>\n",
              "      <td>webpress</td>\n",
              "    </tr>\n",
              "    <tr>\n",
              "      <th>64322</th>\n",
              "      <td>https://www.lemonde.fr/idees/article/2022/12/31/mort-de-mahsa-amini-la-seule-maniere-de-mettre-fin-a-la-crise-en-iran-est-d-en-finir-avec-l-intervention-des-religieux-dans-la-politique_6156168_3232.html</td>\n",
              "      <td>None</td>\n",
              "      <td>None</td>\n",
              "      <td>Le Monde</td>\n",
              "      <td>fr</td>\n",
              "      <td>2022-12-31 08:00:10</td>\n",
              "      <td>Mort de Mahsa Amini : « La seule manière de mettre fin à la crise en Iran est d’en finir avec l’intervention des religieux dans la politique »</td>\n",
              "      <td>None</td>\n",
              "      <td>None</td>\n",
              "      <td>https://img.lemde.fr/2022/10/08/291/0/3500/1750/1440/720/60/0/73acbf5_fw1-iran-women-0918-11.jpg</td>\n",
              "      <td>None</td>\n",
              "      <td>https://www.lemonde.fr/sitemap_news.xml</td>\n",
              "      <td>\"597c9bf8fc520caad7935c42820685ff\"</td>\n",
              "      <td>2023-01-01 01:47:06+00:00</td>\n",
              "      <td>0.1021</td>\n",
              "      <td>2023-01-01 01:48:03</td>\n",
              "      <td>lemonde</td>\n",
              "      <td>[idees, article]</td>\n",
              "      <td>None</td>\n",
              "      <td>None</td>\n",
              "      <td>None</td>\n",
              "      <td>2022-12-31 07:00:10+00:00</td>\n",
              "      <td>None</td>\n",
              "      <td>NaN</td>\n",
              "      <td>2023-01-02 01:28:02</td>\n",
              "      <td>webpress</td>\n",
              "    </tr>\n",
              "  </tbody>\n",
              "</table>\n",
              "</div>\n",
              "      <button class=\"colab-df-convert\" onclick=\"convertToInteractive('df-8022b6c0-f018-4e3a-8f68-8c65ab45a3c8')\"\n",
              "              title=\"Convert this dataframe to an interactive table.\"\n",
              "              style=\"display:none;\">\n",
              "        \n",
              "  <svg xmlns=\"http://www.w3.org/2000/svg\" height=\"24px\"viewBox=\"0 0 24 24\"\n",
              "       width=\"24px\">\n",
              "    <path d=\"M0 0h24v24H0V0z\" fill=\"none\"/>\n",
              "    <path d=\"M18.56 5.44l.94 2.06.94-2.06 2.06-.94-2.06-.94-.94-2.06-.94 2.06-2.06.94zm-11 1L8.5 8.5l.94-2.06 2.06-.94-2.06-.94L8.5 2.5l-.94 2.06-2.06.94zm10 10l.94 2.06.94-2.06 2.06-.94-2.06-.94-.94-2.06-.94 2.06-2.06.94z\"/><path d=\"M17.41 7.96l-1.37-1.37c-.4-.4-.92-.59-1.43-.59-.52 0-1.04.2-1.43.59L10.3 9.45l-7.72 7.72c-.78.78-.78 2.05 0 2.83L4 21.41c.39.39.9.59 1.41.59.51 0 1.02-.2 1.41-.59l7.78-7.78 2.81-2.81c.8-.78.8-2.07 0-2.86zM5.41 20L4 18.59l7.72-7.72 1.47 1.35L5.41 20z\"/>\n",
              "  </svg>\n",
              "      </button>\n",
              "      \n",
              "  <style>\n",
              "    .colab-df-container {\n",
              "      display:flex;\n",
              "      flex-wrap:wrap;\n",
              "      gap: 12px;\n",
              "    }\n",
              "\n",
              "    .colab-df-convert {\n",
              "      background-color: #E8F0FE;\n",
              "      border: none;\n",
              "      border-radius: 50%;\n",
              "      cursor: pointer;\n",
              "      display: none;\n",
              "      fill: #1967D2;\n",
              "      height: 32px;\n",
              "      padding: 0 0 0 0;\n",
              "      width: 32px;\n",
              "    }\n",
              "\n",
              "    .colab-df-convert:hover {\n",
              "      background-color: #E2EBFA;\n",
              "      box-shadow: 0px 1px 2px rgba(60, 64, 67, 0.3), 0px 1px 3px 1px rgba(60, 64, 67, 0.15);\n",
              "      fill: #174EA6;\n",
              "    }\n",
              "\n",
              "    [theme=dark] .colab-df-convert {\n",
              "      background-color: #3B4455;\n",
              "      fill: #D2E3FC;\n",
              "    }\n",
              "\n",
              "    [theme=dark] .colab-df-convert:hover {\n",
              "      background-color: #434B5C;\n",
              "      box-shadow: 0px 1px 3px 1px rgba(0, 0, 0, 0.15);\n",
              "      filter: drop-shadow(0px 1px 2px rgba(0, 0, 0, 0.3));\n",
              "      fill: #FFFFFF;\n",
              "    }\n",
              "  </style>\n",
              "\n",
              "      <script>\n",
              "        const buttonEl =\n",
              "          document.querySelector('#df-8022b6c0-f018-4e3a-8f68-8c65ab45a3c8 button.colab-df-convert');\n",
              "        buttonEl.style.display =\n",
              "          google.colab.kernel.accessAllowed ? 'block' : 'none';\n",
              "\n",
              "        async function convertToInteractive(key) {\n",
              "          const element = document.querySelector('#df-8022b6c0-f018-4e3a-8f68-8c65ab45a3c8');\n",
              "          const dataTable =\n",
              "            await google.colab.kernel.invokeFunction('convertToInteractive',\n",
              "                                                     [key], {});\n",
              "          if (!dataTable) return;\n",
              "\n",
              "          const docLinkHtml = 'Like what you see? Visit the ' +\n",
              "            '<a target=\"_blank\" href=https://colab.research.google.com/notebooks/data_table.ipynb>data table notebook</a>'\n",
              "            + ' to learn more about interactive tables.';\n",
              "          element.innerHTML = '';\n",
              "          dataTable['output_type'] = 'display_data';\n",
              "          await google.colab.output.renderOutput(dataTable, element);\n",
              "          const docLink = document.createElement('div');\n",
              "          docLink.innerHTML = docLinkHtml;\n",
              "          element.appendChild(docLink);\n",
              "        }\n",
              "      </script>\n",
              "    </div>\n",
              "  </div>\n",
              "  "
            ]
          },
          "metadata": {},
          "execution_count": 16
        }
      ]
    },
    {
      "cell_type": "code",
      "source": [
        "df.shape"
      ],
      "metadata": {
        "colab": {
          "base_uri": "https://localhost:8080/"
        },
        "id": "dV_c5Nzkkqih",
        "outputId": "c0de9535-a6c4-4b72-f0ca-89bbef78ce06"
      },
      "execution_count": 4,
      "outputs": [
        {
          "output_type": "execute_result",
          "data": {
            "text/plain": [
              "(2912, 26)"
            ]
          },
          "metadata": {},
          "execution_count": 4
        }
      ]
    },
    {
      "cell_type": "code",
      "source": [
        "#Suppresssion des colonnes nulls et sans utilité\n",
        "print(\"colonnes avant supression\",df.shape[1])\n",
        "col_to_drop=[\"priority\",\"changefreq\",\"image\",\"image_title\",\"news\",\"news_access\",\"news_genres\",\"news_keywords\",\n",
        "             \"news_publication\",\"publication_language\",\"image_loc\",\"sitemap\",\"media_type\",\"media_type\",\n",
        "             \"sitemap_size_mb\",\"sitemap\",\"media\",\"publication_name\"]\n",
        "df.drop(col_to_drop,axis=1,inplace=True)\n",
        "print(\"colonnes après supression\",df.shape[1])"
      ],
      "metadata": {
        "colab": {
          "base_uri": "https://localhost:8080/"
        },
        "id": "eUjfnpPztsx-",
        "outputId": "acf82081-f00a-43ab-802d-86917909fe51"
      },
      "execution_count": 17,
      "outputs": [
        {
          "output_type": "stream",
          "name": "stdout",
          "text": [
            "colonnes avant supression 26\n",
            "colonnes après supression 10\n"
          ]
        }
      ]
    },
    {
      "cell_type": "code",
      "source": [
        "df.head()"
      ],
      "metadata": {
        "colab": {
          "base_uri": "https://localhost:8080/",
          "height": 617
        },
        "id": "bkliun1CwJE8",
        "outputId": "3d51feb3-a982-4236-f9e4-10117e43020c"
      },
      "execution_count": 23,
      "outputs": [
        {
          "output_type": "execute_result",
          "data": {
            "text/plain": [
              "                                                     url  \\\n",
              "64318  https://www.lemonde.fr/disparitions/article/20...   \n",
              "64319  https://www.lemonde.fr/international/article/2...   \n",
              "64320  https://www.lemonde.fr/argent/article/2022/12/...   \n",
              "64321  https://www.lemonde.fr/idees/article/2022/12/3...   \n",
              "64322  https://www.lemonde.fr/idees/article/2022/12/3...   \n",
              "\n",
              "      news_publication_date  \\\n",
              "64318   2022-12-31 10:00:26   \n",
              "64319   2022-12-31 14:43:55   \n",
              "64320   2022-12-31 06:01:39   \n",
              "64321   2022-12-31 08:00:20   \n",
              "64322   2022-12-31 08:00:10   \n",
              "\n",
              "                                              news_title  \\\n",
              "64318  Barbara Walters, légende de la télévision amér...   \n",
              "64319  Entre la Syrie et la Turquie, un premier pas o...   \n",
              "64320  Passoires thermiques, timbres, smic, gaz, carb...   \n",
              "64321  En Guyane, « la transition énergétique ne se f...   \n",
              "64322  Mort de Mahsa Amini : « La seule manière de me...   \n",
              "\n",
              "                                           image_caption  \\\n",
              "64318  Barbara Walters, le 7 octobre 2014, à l’univer...   \n",
              "64319  Le ministre russe de la défense, Sergueï Choïg...   \n",
              "64320  Devant une borne de rechargement du passe Navi...   \n",
              "64321  Dans la réserve naturelle nationale des Nourag...   \n",
              "64322                                               None   \n",
              "\n",
              "                                     etag     sitemap_last_modified  \\\n",
              "64318  \"597c9bf8fc520caad7935c42820685ff\" 2023-01-01 01:47:06+00:00   \n",
              "64319  \"597c9bf8fc520caad7935c42820685ff\" 2023-01-01 01:47:06+00:00   \n",
              "64320  \"597c9bf8fc520caad7935c42820685ff\" 2023-01-01 01:47:06+00:00   \n",
              "64321  \"597c9bf8fc520caad7935c42820685ff\" 2023-01-01 01:47:06+00:00   \n",
              "64322  \"597c9bf8fc520caad7935c42820685ff\" 2023-01-01 01:47:06+00:00   \n",
              "\n",
              "            download_date                   section                   lastmod  \\\n",
              "64318 2023-01-01 01:48:03   [disparitions, article] 2022-12-31 09:00:26+00:00   \n",
              "64319 2023-01-01 01:48:03  [international, article] 2022-12-31 13:43:55+00:00   \n",
              "64320 2023-01-01 01:48:03         [argent, article] 2022-12-31 05:01:39+00:00   \n",
              "64321 2023-01-01 01:48:03          [idees, article] 2022-12-31 07:00:20+00:00   \n",
              "64322 2023-01-01 01:48:03          [idees, article] 2022-12-31 07:00:10+00:00   \n",
              "\n",
              "       download_date_last  \n",
              "64318 2023-01-02 01:28:02  \n",
              "64319 2023-01-02 01:28:02  \n",
              "64320 2023-01-02 01:28:02  \n",
              "64321 2023-01-02 01:28:02  \n",
              "64322 2023-01-02 01:28:02  "
            ],
            "text/html": [
              "\n",
              "  <div id=\"df-b2ade868-1e9f-4a50-9d8e-ff41f0a5574d\">\n",
              "    <div class=\"colab-df-container\">\n",
              "      <div>\n",
              "<style scoped>\n",
              "    .dataframe tbody tr th:only-of-type {\n",
              "        vertical-align: middle;\n",
              "    }\n",
              "\n",
              "    .dataframe tbody tr th {\n",
              "        vertical-align: top;\n",
              "    }\n",
              "\n",
              "    .dataframe thead th {\n",
              "        text-align: right;\n",
              "    }\n",
              "</style>\n",
              "<table border=\"1\" class=\"dataframe\">\n",
              "  <thead>\n",
              "    <tr style=\"text-align: right;\">\n",
              "      <th></th>\n",
              "      <th>url</th>\n",
              "      <th>news_publication_date</th>\n",
              "      <th>news_title</th>\n",
              "      <th>image_caption</th>\n",
              "      <th>etag</th>\n",
              "      <th>sitemap_last_modified</th>\n",
              "      <th>download_date</th>\n",
              "      <th>section</th>\n",
              "      <th>lastmod</th>\n",
              "      <th>download_date_last</th>\n",
              "    </tr>\n",
              "  </thead>\n",
              "  <tbody>\n",
              "    <tr>\n",
              "      <th>64318</th>\n",
              "      <td>https://www.lemonde.fr/disparitions/article/20...</td>\n",
              "      <td>2022-12-31 10:00:26</td>\n",
              "      <td>Barbara Walters, légende de la télévision amér...</td>\n",
              "      <td>Barbara Walters, le 7 octobre 2014, à l’univer...</td>\n",
              "      <td>\"597c9bf8fc520caad7935c42820685ff\"</td>\n",
              "      <td>2023-01-01 01:47:06+00:00</td>\n",
              "      <td>2023-01-01 01:48:03</td>\n",
              "      <td>[disparitions, article]</td>\n",
              "      <td>2022-12-31 09:00:26+00:00</td>\n",
              "      <td>2023-01-02 01:28:02</td>\n",
              "    </tr>\n",
              "    <tr>\n",
              "      <th>64319</th>\n",
              "      <td>https://www.lemonde.fr/international/article/2...</td>\n",
              "      <td>2022-12-31 14:43:55</td>\n",
              "      <td>Entre la Syrie et la Turquie, un premier pas o...</td>\n",
              "      <td>Le ministre russe de la défense, Sergueï Choïg...</td>\n",
              "      <td>\"597c9bf8fc520caad7935c42820685ff\"</td>\n",
              "      <td>2023-01-01 01:47:06+00:00</td>\n",
              "      <td>2023-01-01 01:48:03</td>\n",
              "      <td>[international, article]</td>\n",
              "      <td>2022-12-31 13:43:55+00:00</td>\n",
              "      <td>2023-01-02 01:28:02</td>\n",
              "    </tr>\n",
              "    <tr>\n",
              "      <th>64320</th>\n",
              "      <td>https://www.lemonde.fr/argent/article/2022/12/...</td>\n",
              "      <td>2022-12-31 06:01:39</td>\n",
              "      <td>Passoires thermiques, timbres, smic, gaz, carb...</td>\n",
              "      <td>Devant une borne de rechargement du passe Navi...</td>\n",
              "      <td>\"597c9bf8fc520caad7935c42820685ff\"</td>\n",
              "      <td>2023-01-01 01:47:06+00:00</td>\n",
              "      <td>2023-01-01 01:48:03</td>\n",
              "      <td>[argent, article]</td>\n",
              "      <td>2022-12-31 05:01:39+00:00</td>\n",
              "      <td>2023-01-02 01:28:02</td>\n",
              "    </tr>\n",
              "    <tr>\n",
              "      <th>64321</th>\n",
              "      <td>https://www.lemonde.fr/idees/article/2022/12/3...</td>\n",
              "      <td>2022-12-31 08:00:20</td>\n",
              "      <td>En Guyane, « la transition énergétique ne se f...</td>\n",
              "      <td>Dans la réserve naturelle nationale des Nourag...</td>\n",
              "      <td>\"597c9bf8fc520caad7935c42820685ff\"</td>\n",
              "      <td>2023-01-01 01:47:06+00:00</td>\n",
              "      <td>2023-01-01 01:48:03</td>\n",
              "      <td>[idees, article]</td>\n",
              "      <td>2022-12-31 07:00:20+00:00</td>\n",
              "      <td>2023-01-02 01:28:02</td>\n",
              "    </tr>\n",
              "    <tr>\n",
              "      <th>64322</th>\n",
              "      <td>https://www.lemonde.fr/idees/article/2022/12/3...</td>\n",
              "      <td>2022-12-31 08:00:10</td>\n",
              "      <td>Mort de Mahsa Amini : « La seule manière de me...</td>\n",
              "      <td>None</td>\n",
              "      <td>\"597c9bf8fc520caad7935c42820685ff\"</td>\n",
              "      <td>2023-01-01 01:47:06+00:00</td>\n",
              "      <td>2023-01-01 01:48:03</td>\n",
              "      <td>[idees, article]</td>\n",
              "      <td>2022-12-31 07:00:10+00:00</td>\n",
              "      <td>2023-01-02 01:28:02</td>\n",
              "    </tr>\n",
              "  </tbody>\n",
              "</table>\n",
              "</div>\n",
              "      <button class=\"colab-df-convert\" onclick=\"convertToInteractive('df-b2ade868-1e9f-4a50-9d8e-ff41f0a5574d')\"\n",
              "              title=\"Convert this dataframe to an interactive table.\"\n",
              "              style=\"display:none;\">\n",
              "        \n",
              "  <svg xmlns=\"http://www.w3.org/2000/svg\" height=\"24px\"viewBox=\"0 0 24 24\"\n",
              "       width=\"24px\">\n",
              "    <path d=\"M0 0h24v24H0V0z\" fill=\"none\"/>\n",
              "    <path d=\"M18.56 5.44l.94 2.06.94-2.06 2.06-.94-2.06-.94-.94-2.06-.94 2.06-2.06.94zm-11 1L8.5 8.5l.94-2.06 2.06-.94-2.06-.94L8.5 2.5l-.94 2.06-2.06.94zm10 10l.94 2.06.94-2.06 2.06-.94-2.06-.94-.94-2.06-.94 2.06-2.06.94z\"/><path d=\"M17.41 7.96l-1.37-1.37c-.4-.4-.92-.59-1.43-.59-.52 0-1.04.2-1.43.59L10.3 9.45l-7.72 7.72c-.78.78-.78 2.05 0 2.83L4 21.41c.39.39.9.59 1.41.59.51 0 1.02-.2 1.41-.59l7.78-7.78 2.81-2.81c.8-.78.8-2.07 0-2.86zM5.41 20L4 18.59l7.72-7.72 1.47 1.35L5.41 20z\"/>\n",
              "  </svg>\n",
              "      </button>\n",
              "      \n",
              "  <style>\n",
              "    .colab-df-container {\n",
              "      display:flex;\n",
              "      flex-wrap:wrap;\n",
              "      gap: 12px;\n",
              "    }\n",
              "\n",
              "    .colab-df-convert {\n",
              "      background-color: #E8F0FE;\n",
              "      border: none;\n",
              "      border-radius: 50%;\n",
              "      cursor: pointer;\n",
              "      display: none;\n",
              "      fill: #1967D2;\n",
              "      height: 32px;\n",
              "      padding: 0 0 0 0;\n",
              "      width: 32px;\n",
              "    }\n",
              "\n",
              "    .colab-df-convert:hover {\n",
              "      background-color: #E2EBFA;\n",
              "      box-shadow: 0px 1px 2px rgba(60, 64, 67, 0.3), 0px 1px 3px 1px rgba(60, 64, 67, 0.15);\n",
              "      fill: #174EA6;\n",
              "    }\n",
              "\n",
              "    [theme=dark] .colab-df-convert {\n",
              "      background-color: #3B4455;\n",
              "      fill: #D2E3FC;\n",
              "    }\n",
              "\n",
              "    [theme=dark] .colab-df-convert:hover {\n",
              "      background-color: #434B5C;\n",
              "      box-shadow: 0px 1px 3px 1px rgba(0, 0, 0, 0.15);\n",
              "      filter: drop-shadow(0px 1px 2px rgba(0, 0, 0, 0.3));\n",
              "      fill: #FFFFFF;\n",
              "    }\n",
              "  </style>\n",
              "\n",
              "      <script>\n",
              "        const buttonEl =\n",
              "          document.querySelector('#df-b2ade868-1e9f-4a50-9d8e-ff41f0a5574d button.colab-df-convert');\n",
              "        buttonEl.style.display =\n",
              "          google.colab.kernel.accessAllowed ? 'block' : 'none';\n",
              "\n",
              "        async function convertToInteractive(key) {\n",
              "          const element = document.querySelector('#df-b2ade868-1e9f-4a50-9d8e-ff41f0a5574d');\n",
              "          const dataTable =\n",
              "            await google.colab.kernel.invokeFunction('convertToInteractive',\n",
              "                                                     [key], {});\n",
              "          if (!dataTable) return;\n",
              "\n",
              "          const docLinkHtml = 'Like what you see? Visit the ' +\n",
              "            '<a target=\"_blank\" href=https://colab.research.google.com/notebooks/data_table.ipynb>data table notebook</a>'\n",
              "            + ' to learn more about interactive tables.';\n",
              "          element.innerHTML = '';\n",
              "          dataTable['output_type'] = 'display_data';\n",
              "          await google.colab.output.renderOutput(dataTable, element);\n",
              "          const docLink = document.createElement('div');\n",
              "          docLink.innerHTML = docLinkHtml;\n",
              "          element.appendChild(docLink);\n",
              "        }\n",
              "      </script>\n",
              "    </div>\n",
              "  </div>\n",
              "  "
            ]
          },
          "metadata": {},
          "execution_count": 23
        }
      ]
    },
    {
      "cell_type": "code",
      "source": [
        "import nltk\n",
        "nltk.download('stopwords')\n",
        "nltk.download('wordnet')\n",
        "nltk.download('punkt')\n",
        "nltk.download('averaged_perceptron_tagger') \n",
        "nltk.download('omw-1.4')"
      ],
      "metadata": {
        "colab": {
          "base_uri": "https://localhost:8080/"
        },
        "id": "kvCyAXg2wlFl",
        "outputId": "95679f09-3107-4fcc-f141-6f05b6416b2b"
      },
      "execution_count": 18,
      "outputs": [
        {
          "output_type": "stream",
          "name": "stderr",
          "text": [
            "[nltk_data] Downloading package stopwords to /root/nltk_data...\n",
            "[nltk_data]   Unzipping corpora/stopwords.zip.\n",
            "[nltk_data] Downloading package wordnet to /root/nltk_data...\n",
            "[nltk_data] Downloading package punkt to /root/nltk_data...\n",
            "[nltk_data]   Unzipping tokenizers/punkt.zip.\n",
            "[nltk_data] Downloading package averaged_perceptron_tagger to\n",
            "[nltk_data]     /root/nltk_data...\n",
            "[nltk_data]   Unzipping taggers/averaged_perceptron_tagger.zip.\n",
            "[nltk_data] Downloading package omw-1.4 to /root/nltk_data...\n"
          ]
        },
        {
          "output_type": "execute_result",
          "data": {
            "text/plain": [
              "True"
            ]
          },
          "metadata": {},
          "execution_count": 18
        }
      ]
    },
    {
      "cell_type": "code",
      "source": [
        "# Stop words\n",
        "stop_w = list(set(stopwords.words(\"french\"))) + [\n",
        "    \"[\",\n",
        "    \"]\",\n",
        "    \",\",\n",
        "    \".\",\n",
        "    \":\",\n",
        "    \"?\",\n",
        "    \"(\",\n",
        "    \")\",\n",
        "]"
      ],
      "metadata": {
        "id": "VQUTFjPPwMR3"
      },
      "execution_count": 19,
      "outputs": []
    },
    {
      "cell_type": "code",
      "source": [
        "df.news_title.iloc[0]"
      ],
      "metadata": {
        "colab": {
          "base_uri": "https://localhost:8080/",
          "height": 35
        },
        "id": "RfjakRmql5-9",
        "outputId": "35fbe9ee-f842-4222-c8b1-5ac0a7b5f2ec"
      },
      "execution_count": 20,
      "outputs": [
        {
          "output_type": "execute_result",
          "data": {
            "text/plain": [
              "'Barbara Walters, légende de la télévision américaine, est morte à 93\\xa0ans'"
            ],
            "application/vnd.google.colaboratory.intrinsic+json": {
              "type": "string"
            }
          },
          "metadata": {},
          "execution_count": 20
        }
      ]
    },
    {
      "cell_type": "markdown",
      "source": [
        "Fonctions du prétraitement"
      ],
      "metadata": {
        "id": "VaMXF0lhklY0"
      }
    },
    {
      "cell_type": "code",
      "source": [
        "# Tokenizer\n",
        "def tokenizer_fct(sentence):\n",
        "    # print(sentence)\n",
        "    sentence_clean = (\n",
        "        sentence.replace(\"-\", \" \").replace(\"+\", \" \").replace(\"/\", \" \").replace(\"#\", \" \")\n",
        "    )\n",
        "    word_tokens = word_tokenize(sentence_clean)\n",
        "    return word_tokens\n",
        "\n",
        "\n",
        "\n",
        "def stop_word_filter_fct(list_words):\n",
        "    filtered_w = [w for w in list_words if not w in stop_w]\n",
        "    filtered_w2 = [w for w in filtered_w if len(w) > 2]\n",
        "    #filtered_w3 = [w for w in filtered_w2 if not w in list_unique_words]\n",
        "    return filtered_w2\n",
        "\n",
        "\n",
        "# lower case et alpha\n",
        "def lower_start_fct(list_words):\n",
        "    lw = [\n",
        "        w.lower().strip()\n",
        "        for w in list_words\n",
        "        if (not w.startswith(\"@\"))\n",
        "        and (not w.startswith(\"#\"))\n",
        "        and (not w.startswith(\"http\"))\n",
        "    ]\n",
        "    return lw\n",
        "\n",
        "\n",
        "# Lemmatizer (base d'un mot)\n",
        "\n",
        "\n",
        "def lemma_fct(list_words):\n",
        "    lemmatizer = WordNetLemmatizer()\n",
        "    lem_w = [lemmatizer.lemmatize(w) for w in list_words]\n",
        "    return lem_w"
      ],
      "metadata": {
        "id": "hMMGTmldyYqC"
      },
      "execution_count": 21,
      "outputs": []
    },
    {
      "cell_type": "code",
      "source": [
        "# Fonction de préparation du texte pour le bag of words (Countvectorizer et Tf_idf)\n",
        "def transform_bow_fct(desc_text):\n",
        "    word_tokens = tokenizer_fct(desc_text)\n",
        "    sw = stop_word_filter_fct(word_tokens)\n",
        "    lw = lower_start_fct(sw)\n",
        "    transf_desc_text = \" \".join(lw)\n",
        "    return transf_desc_text\n",
        "\n",
        "\n",
        "# Fonction de préparation du texte pour le bag of words avec lemmatization\n",
        "def transform_bow_lem_fct(desc_text):\n",
        "    word_tokens = tokenizer_fct(desc_text)\n",
        "    sw = stop_word_filter_fct(word_tokens)\n",
        "    lw = lower_start_fct(sw)\n",
        "    lem_w = lemma_fct(lw)\n",
        "    transf_desc_text = \" \".join(lem_w)\n",
        "    return transf_desc_text"
      ],
      "metadata": {
        "id": "pk6LKtyHwM3h"
      },
      "execution_count": 22,
      "outputs": []
    },
    {
      "cell_type": "markdown",
      "source": [
        "Application sur la colonne new-title"
      ],
      "metadata": {
        "id": "if3SpX6bkyDz"
      }
    },
    {
      "cell_type": "code",
      "source": [
        "#df[\"news_title\"] = df[\"news_title\"].astype(str)\n",
        "df[\"sentence_bow\"] = df[\"news_title\"].apply(lambda x: transform_bow_fct(x))\n",
        "df[\"sentence_bow_lem\"] = df[\"news_title\"].apply(lambda x: transform_bow_lem_fct(x))"
      ],
      "metadata": {
        "id": "AedNFIHYwvS_"
      },
      "execution_count": 23,
      "outputs": []
    },
    {
      "cell_type": "markdown",
      "source": [
        "Extraire la section"
      ],
      "metadata": {
        "id": "HOiE8u0clDKF"
      }
    },
    {
      "cell_type": "code",
      "source": [
        "df[\"section\"]=df[\"section\"].str[0]\n",
        "l_sect = list(set(df[\"section\"]))\n",
        "print(\"Sections : \", l_sect)\n",
        "y_sect_num = [(1 - l_sect.index(df.iloc[i][\"section\"])) for i in range(len(df))]"
      ],
      "metadata": {
        "colab": {
          "base_uri": "https://localhost:8080/"
        },
        "id": "able0FKPwz0E",
        "outputId": "5f0e5845-9756-45f6-ad35-51001b269c05"
      },
      "execution_count": 24,
      "outputs": [
        {
          "output_type": "stream",
          "name": "stdout",
          "text": [
            "Sections :  ['mondephilatelique', 'series', 'm-styles', 'le-monde-evenements', 'sports-de-glisse', 'sante', 'podcasts', 'energies', 'police-justice', 'critique-litteraire', 'videos', 'afrique', 'les-envies-du-monde', 'campus', 'education', 'argent', 'sciences', 'football', 'disparitions', 'cinema', 'tennis', 'pixels', 'les-recettes-du-monde', 'le-monde-passe-a-table', 'economie', 'm-perso', 'sport', 'emploi', 'televisions-radio', 'le-monde-des-religions', 'musiques', 'blog-mediateur', 'culture', 'politique', 'societe', 'guides-d-achat', 'actualite-medias', 'smart-cities', 'un-si-proche-orient', 'planete', 'm-le-mag', 'rugby', 'livres', 'climat', 'idees', 'le-jazz-et-la-salsa', 'international', 'les-decodeurs']\n"
          ]
        }
      ]
    },
    {
      "cell_type": "code",
      "source": [
        "len(l_sect)"
      ],
      "metadata": {
        "colab": {
          "base_uri": "https://localhost:8080/"
        },
        "id": "DRRA5SjHt0zV",
        "outputId": "dd025b30-c28f-4f39-8aeb-9f35a9f8c719"
      },
      "execution_count": 39,
      "outputs": [
        {
          "output_type": "execute_result",
          "data": {
            "text/plain": [
              "48"
            ]
          },
          "metadata": {},
          "execution_count": 39
        }
      ]
    },
    {
      "cell_type": "code",
      "source": [
        "df[\"length_bow\"] = df[\"sentence_bow\"].apply(lambda x: len(word_tokenize(x)))\n",
        "print(\"max length bow : \", df[\"length_bow\"].max())\n",
        "\n",
        "df[\"length_bow_lem\"] = df[\"sentence_bow_lem\"].apply(lambda x: len(word_tokenize(x)))\n",
        "print(\"max length bow lem : \", df[\"length_bow_lem\"].max())\n"
      ],
      "metadata": {
        "colab": {
          "base_uri": "https://localhost:8080/"
        },
        "id": "NRSGgslVw7zQ",
        "outputId": "d0edd120-f6c8-4ac7-f96c-028881854ff8"
      },
      "execution_count": 25,
      "outputs": [
        {
          "output_type": "stream",
          "name": "stdout",
          "text": [
            "max length bow :  20\n",
            "max length bow lem :  20\n"
          ]
        }
      ]
    },
    {
      "cell_type": "code",
      "source": [
        "df.head()"
      ],
      "metadata": {
        "colab": {
          "base_uri": "https://localhost:8080/",
          "height": 1000
        },
        "id": "U9HGpr-NyxBL",
        "outputId": "945ddd52-cdcf-4f58-a857-a7dbff2d2bfc"
      },
      "execution_count": 35,
      "outputs": [
        {
          "output_type": "execute_result",
          "data": {
            "text/plain": [
              "                                                                                                                                                                                                              url  \\\n",
              "64318                                                             https://www.lemonde.fr/disparitions/article/2022/12/31/barbara-walters-legende-de-la-television-americaine-est-morte-a-93-ans_6156166_3382.html   \n",
              "64319                                                        https://www.lemonde.fr/international/article/2022/12/31/entre-la-syrie-et-la-turquie-un-premier-pas-officiel-vers-un-rapprochement_6156164_3210.html   \n",
              "64320                               https://www.lemonde.fr/argent/article/2022/12/31/passoires-thermiques-timbres-smic-gaz-carburant-ce-qui-change-le-1er-janvier-pour-le-budget-des-menages_6156161_1657007.html   \n",
              "64321      https://www.lemonde.fr/idees/article/2022/12/31/en-guyane-la-transition-energetique-ne-se-fera-pas-en-niant-les-droits-des-peuples-autochtones-et-en-saccageant-la-foret-amazonienne_6156169_3232.html   \n",
              "64322  https://www.lemonde.fr/idees/article/2022/12/31/mort-de-mahsa-amini-la-seule-maniere-de-mettre-fin-a-la-crise-en-iran-est-d-en-finir-avec-l-intervention-des-religieux-dans-la-politique_6156168_3232.html   \n",
              "\n",
              "      news_publication_date  \\\n",
              "64318   2022-12-31 10:00:26   \n",
              "64319   2022-12-31 14:43:55   \n",
              "64320   2022-12-31 06:01:39   \n",
              "64321   2022-12-31 08:00:20   \n",
              "64322   2022-12-31 08:00:10   \n",
              "\n",
              "                                                                                                                                           news_title  \\\n",
              "64318                                                                        Barbara Walters, légende de la télévision américaine, est morte à 93 ans   \n",
              "64319                                                                     Entre la Syrie et la Turquie, un premier pas officiel vers un rapprochement   \n",
              "64320                                   Passoires thermiques, timbres, smic, gaz, carburant : ce qui change le 1er janvier pour le budget des ménages   \n",
              "64321       En Guyane, « la transition énergétique ne se fera pas en niant les droits des peuples autochtones et en saccageant la forêt amazonienne »   \n",
              "64322  Mort de Mahsa Amini : « La seule manière de mettre fin à la crise en Iran est d’en finir avec l’intervention des religieux dans la politique »   \n",
              "\n",
              "                                                                                                                                                                                    image_caption  \\\n",
              "64318                                                                                                                              Barbara Walters, le 7 octobre 2014, à l’université de Harvard.   \n",
              "64319  Le ministre russe de la défense, Sergueï Choïgou, à gauche, et son homologue turc, Hulusi Akar, se serrent la main lors d’une réunion à Istanbul, en Turquie, le vendredi 22 juillet 2022.   \n",
              "64320                                                                                                     Devant une borne de rechargement du passe Navigo, dans le métro parisien, en mars 2020.   \n",
              "64321                                                                                                                               Dans la réserve naturelle nationale des Nouragues, en Guyane.   \n",
              "64322                                                                                                                                                                                        None   \n",
              "\n",
              "                                     etag     sitemap_last_modified  \\\n",
              "64318  \"597c9bf8fc520caad7935c42820685ff\" 2023-01-01 01:47:06+00:00   \n",
              "64319  \"597c9bf8fc520caad7935c42820685ff\" 2023-01-01 01:47:06+00:00   \n",
              "64320  \"597c9bf8fc520caad7935c42820685ff\" 2023-01-01 01:47:06+00:00   \n",
              "64321  \"597c9bf8fc520caad7935c42820685ff\" 2023-01-01 01:47:06+00:00   \n",
              "64322  \"597c9bf8fc520caad7935c42820685ff\" 2023-01-01 01:47:06+00:00   \n",
              "\n",
              "            download_date                   section                   lastmod  \\\n",
              "64318 2023-01-01 01:48:03   [disparitions, article] 2022-12-31 09:00:26+00:00   \n",
              "64319 2023-01-01 01:48:03  [international, article] 2022-12-31 13:43:55+00:00   \n",
              "64320 2023-01-01 01:48:03         [argent, article] 2022-12-31 05:01:39+00:00   \n",
              "64321 2023-01-01 01:48:03          [idees, article] 2022-12-31 07:00:20+00:00   \n",
              "64322 2023-01-01 01:48:03          [idees, article] 2022-12-31 07:00:10+00:00   \n",
              "\n",
              "       download_date_last  \\\n",
              "64318 2023-01-02 01:28:02   \n",
              "64319 2023-01-02 01:28:02   \n",
              "64320 2023-01-02 01:28:02   \n",
              "64321 2023-01-02 01:28:02   \n",
              "64322 2023-01-02 01:28:02   \n",
              "\n",
              "                                                                                           sentence_bow  \\\n",
              "64318                                           barbara walters légende télévision américaine morte ans   \n",
              "64319                                           entre syrie turquie premier officiel vers rapprochement   \n",
              "64320                 passoires thermiques timbres smic gaz carburant change 1er janvier budget ménages   \n",
              "64321  guyane transition énergétique fera niant droits peuples autochtones saccageant forêt amazonienne   \n",
              "64322       mort mahsa amini seule manière mettre fin crise iran finir intervention religieux politique   \n",
              "\n",
              "                                                                                       sentence_bow_lem  \\\n",
              "64318                                             barbara walter légende télévision américaine morte an   \n",
              "64319                                           entre syrie turquie premier officiel vers rapprochement   \n",
              "64320                  passoires thermiques timbre smic gaz carburant change 1er janvier budget ménages   \n",
              "64321  guyane transition énergétique fera niant droits peuples autochtones saccageant forêt amazonienne   \n",
              "64322       mort mahsa amini seule manière mettre fin crise iran finir intervention religieux politique   \n",
              "\n",
              "       length_bow  length_bow_lem  \n",
              "64318           7               7  \n",
              "64319           7               7  \n",
              "64320          11              11  \n",
              "64321          11              11  \n",
              "64322          13              13  "
            ],
            "text/html": [
              "\n",
              "  <div id=\"df-ba0bfd34-31ec-42fd-acc0-f7ad5914ef3c\">\n",
              "    <div class=\"colab-df-container\">\n",
              "      <div>\n",
              "<style scoped>\n",
              "    .dataframe tbody tr th:only-of-type {\n",
              "        vertical-align: middle;\n",
              "    }\n",
              "\n",
              "    .dataframe tbody tr th {\n",
              "        vertical-align: top;\n",
              "    }\n",
              "\n",
              "    .dataframe thead th {\n",
              "        text-align: right;\n",
              "    }\n",
              "</style>\n",
              "<table border=\"1\" class=\"dataframe\">\n",
              "  <thead>\n",
              "    <tr style=\"text-align: right;\">\n",
              "      <th></th>\n",
              "      <th>url</th>\n",
              "      <th>news_publication_date</th>\n",
              "      <th>news_title</th>\n",
              "      <th>image_caption</th>\n",
              "      <th>etag</th>\n",
              "      <th>sitemap_last_modified</th>\n",
              "      <th>download_date</th>\n",
              "      <th>section</th>\n",
              "      <th>lastmod</th>\n",
              "      <th>download_date_last</th>\n",
              "      <th>sentence_bow</th>\n",
              "      <th>sentence_bow_lem</th>\n",
              "      <th>length_bow</th>\n",
              "      <th>length_bow_lem</th>\n",
              "    </tr>\n",
              "  </thead>\n",
              "  <tbody>\n",
              "    <tr>\n",
              "      <th>64318</th>\n",
              "      <td>https://www.lemonde.fr/disparitions/article/2022/12/31/barbara-walters-legende-de-la-television-americaine-est-morte-a-93-ans_6156166_3382.html</td>\n",
              "      <td>2022-12-31 10:00:26</td>\n",
              "      <td>Barbara Walters, légende de la télévision américaine, est morte à 93 ans</td>\n",
              "      <td>Barbara Walters, le 7 octobre 2014, à l’université de Harvard.</td>\n",
              "      <td>\"597c9bf8fc520caad7935c42820685ff\"</td>\n",
              "      <td>2023-01-01 01:47:06+00:00</td>\n",
              "      <td>2023-01-01 01:48:03</td>\n",
              "      <td>[disparitions, article]</td>\n",
              "      <td>2022-12-31 09:00:26+00:00</td>\n",
              "      <td>2023-01-02 01:28:02</td>\n",
              "      <td>barbara walters légende télévision américaine morte ans</td>\n",
              "      <td>barbara walter légende télévision américaine morte an</td>\n",
              "      <td>7</td>\n",
              "      <td>7</td>\n",
              "    </tr>\n",
              "    <tr>\n",
              "      <th>64319</th>\n",
              "      <td>https://www.lemonde.fr/international/article/2022/12/31/entre-la-syrie-et-la-turquie-un-premier-pas-officiel-vers-un-rapprochement_6156164_3210.html</td>\n",
              "      <td>2022-12-31 14:43:55</td>\n",
              "      <td>Entre la Syrie et la Turquie, un premier pas officiel vers un rapprochement</td>\n",
              "      <td>Le ministre russe de la défense, Sergueï Choïgou, à gauche, et son homologue turc, Hulusi Akar, se serrent la main lors d’une réunion à Istanbul, en Turquie, le vendredi 22 juillet 2022.</td>\n",
              "      <td>\"597c9bf8fc520caad7935c42820685ff\"</td>\n",
              "      <td>2023-01-01 01:47:06+00:00</td>\n",
              "      <td>2023-01-01 01:48:03</td>\n",
              "      <td>[international, article]</td>\n",
              "      <td>2022-12-31 13:43:55+00:00</td>\n",
              "      <td>2023-01-02 01:28:02</td>\n",
              "      <td>entre syrie turquie premier officiel vers rapprochement</td>\n",
              "      <td>entre syrie turquie premier officiel vers rapprochement</td>\n",
              "      <td>7</td>\n",
              "      <td>7</td>\n",
              "    </tr>\n",
              "    <tr>\n",
              "      <th>64320</th>\n",
              "      <td>https://www.lemonde.fr/argent/article/2022/12/31/passoires-thermiques-timbres-smic-gaz-carburant-ce-qui-change-le-1er-janvier-pour-le-budget-des-menages_6156161_1657007.html</td>\n",
              "      <td>2022-12-31 06:01:39</td>\n",
              "      <td>Passoires thermiques, timbres, smic, gaz, carburant : ce qui change le 1er janvier pour le budget des ménages</td>\n",
              "      <td>Devant une borne de rechargement du passe Navigo, dans le métro parisien, en mars 2020.</td>\n",
              "      <td>\"597c9bf8fc520caad7935c42820685ff\"</td>\n",
              "      <td>2023-01-01 01:47:06+00:00</td>\n",
              "      <td>2023-01-01 01:48:03</td>\n",
              "      <td>[argent, article]</td>\n",
              "      <td>2022-12-31 05:01:39+00:00</td>\n",
              "      <td>2023-01-02 01:28:02</td>\n",
              "      <td>passoires thermiques timbres smic gaz carburant change 1er janvier budget ménages</td>\n",
              "      <td>passoires thermiques timbre smic gaz carburant change 1er janvier budget ménages</td>\n",
              "      <td>11</td>\n",
              "      <td>11</td>\n",
              "    </tr>\n",
              "    <tr>\n",
              "      <th>64321</th>\n",
              "      <td>https://www.lemonde.fr/idees/article/2022/12/31/en-guyane-la-transition-energetique-ne-se-fera-pas-en-niant-les-droits-des-peuples-autochtones-et-en-saccageant-la-foret-amazonienne_6156169_3232.html</td>\n",
              "      <td>2022-12-31 08:00:20</td>\n",
              "      <td>En Guyane, « la transition énergétique ne se fera pas en niant les droits des peuples autochtones et en saccageant la forêt amazonienne »</td>\n",
              "      <td>Dans la réserve naturelle nationale des Nouragues, en Guyane.</td>\n",
              "      <td>\"597c9bf8fc520caad7935c42820685ff\"</td>\n",
              "      <td>2023-01-01 01:47:06+00:00</td>\n",
              "      <td>2023-01-01 01:48:03</td>\n",
              "      <td>[idees, article]</td>\n",
              "      <td>2022-12-31 07:00:20+00:00</td>\n",
              "      <td>2023-01-02 01:28:02</td>\n",
              "      <td>guyane transition énergétique fera niant droits peuples autochtones saccageant forêt amazonienne</td>\n",
              "      <td>guyane transition énergétique fera niant droits peuples autochtones saccageant forêt amazonienne</td>\n",
              "      <td>11</td>\n",
              "      <td>11</td>\n",
              "    </tr>\n",
              "    <tr>\n",
              "      <th>64322</th>\n",
              "      <td>https://www.lemonde.fr/idees/article/2022/12/31/mort-de-mahsa-amini-la-seule-maniere-de-mettre-fin-a-la-crise-en-iran-est-d-en-finir-avec-l-intervention-des-religieux-dans-la-politique_6156168_3232.html</td>\n",
              "      <td>2022-12-31 08:00:10</td>\n",
              "      <td>Mort de Mahsa Amini : « La seule manière de mettre fin à la crise en Iran est d’en finir avec l’intervention des religieux dans la politique »</td>\n",
              "      <td>None</td>\n",
              "      <td>\"597c9bf8fc520caad7935c42820685ff\"</td>\n",
              "      <td>2023-01-01 01:47:06+00:00</td>\n",
              "      <td>2023-01-01 01:48:03</td>\n",
              "      <td>[idees, article]</td>\n",
              "      <td>2022-12-31 07:00:10+00:00</td>\n",
              "      <td>2023-01-02 01:28:02</td>\n",
              "      <td>mort mahsa amini seule manière mettre fin crise iran finir intervention religieux politique</td>\n",
              "      <td>mort mahsa amini seule manière mettre fin crise iran finir intervention religieux politique</td>\n",
              "      <td>13</td>\n",
              "      <td>13</td>\n",
              "    </tr>\n",
              "  </tbody>\n",
              "</table>\n",
              "</div>\n",
              "      <button class=\"colab-df-convert\" onclick=\"convertToInteractive('df-ba0bfd34-31ec-42fd-acc0-f7ad5914ef3c')\"\n",
              "              title=\"Convert this dataframe to an interactive table.\"\n",
              "              style=\"display:none;\">\n",
              "        \n",
              "  <svg xmlns=\"http://www.w3.org/2000/svg\" height=\"24px\"viewBox=\"0 0 24 24\"\n",
              "       width=\"24px\">\n",
              "    <path d=\"M0 0h24v24H0V0z\" fill=\"none\"/>\n",
              "    <path d=\"M18.56 5.44l.94 2.06.94-2.06 2.06-.94-2.06-.94-.94-2.06-.94 2.06-2.06.94zm-11 1L8.5 8.5l.94-2.06 2.06-.94-2.06-.94L8.5 2.5l-.94 2.06-2.06.94zm10 10l.94 2.06.94-2.06 2.06-.94-2.06-.94-.94-2.06-.94 2.06-2.06.94z\"/><path d=\"M17.41 7.96l-1.37-1.37c-.4-.4-.92-.59-1.43-.59-.52 0-1.04.2-1.43.59L10.3 9.45l-7.72 7.72c-.78.78-.78 2.05 0 2.83L4 21.41c.39.39.9.59 1.41.59.51 0 1.02-.2 1.41-.59l7.78-7.78 2.81-2.81c.8-.78.8-2.07 0-2.86zM5.41 20L4 18.59l7.72-7.72 1.47 1.35L5.41 20z\"/>\n",
              "  </svg>\n",
              "      </button>\n",
              "      \n",
              "  <style>\n",
              "    .colab-df-container {\n",
              "      display:flex;\n",
              "      flex-wrap:wrap;\n",
              "      gap: 12px;\n",
              "    }\n",
              "\n",
              "    .colab-df-convert {\n",
              "      background-color: #E8F0FE;\n",
              "      border: none;\n",
              "      border-radius: 50%;\n",
              "      cursor: pointer;\n",
              "      display: none;\n",
              "      fill: #1967D2;\n",
              "      height: 32px;\n",
              "      padding: 0 0 0 0;\n",
              "      width: 32px;\n",
              "    }\n",
              "\n",
              "    .colab-df-convert:hover {\n",
              "      background-color: #E2EBFA;\n",
              "      box-shadow: 0px 1px 2px rgba(60, 64, 67, 0.3), 0px 1px 3px 1px rgba(60, 64, 67, 0.15);\n",
              "      fill: #174EA6;\n",
              "    }\n",
              "\n",
              "    [theme=dark] .colab-df-convert {\n",
              "      background-color: #3B4455;\n",
              "      fill: #D2E3FC;\n",
              "    }\n",
              "\n",
              "    [theme=dark] .colab-df-convert:hover {\n",
              "      background-color: #434B5C;\n",
              "      box-shadow: 0px 1px 3px 1px rgba(0, 0, 0, 0.15);\n",
              "      filter: drop-shadow(0px 1px 2px rgba(0, 0, 0, 0.3));\n",
              "      fill: #FFFFFF;\n",
              "    }\n",
              "  </style>\n",
              "\n",
              "      <script>\n",
              "        const buttonEl =\n",
              "          document.querySelector('#df-ba0bfd34-31ec-42fd-acc0-f7ad5914ef3c button.colab-df-convert');\n",
              "        buttonEl.style.display =\n",
              "          google.colab.kernel.accessAllowed ? 'block' : 'none';\n",
              "\n",
              "        async function convertToInteractive(key) {\n",
              "          const element = document.querySelector('#df-ba0bfd34-31ec-42fd-acc0-f7ad5914ef3c');\n",
              "          const dataTable =\n",
              "            await google.colab.kernel.invokeFunction('convertToInteractive',\n",
              "                                                     [key], {});\n",
              "          if (!dataTable) return;\n",
              "\n",
              "          const docLinkHtml = 'Like what you see? Visit the ' +\n",
              "            '<a target=\"_blank\" href=https://colab.research.google.com/notebooks/data_table.ipynb>data table notebook</a>'\n",
              "            + ' to learn more about interactive tables.';\n",
              "          element.innerHTML = '';\n",
              "          dataTable['output_type'] = 'display_data';\n",
              "          await google.colab.output.renderOutput(dataTable, element);\n",
              "          const docLink = document.createElement('div');\n",
              "          docLink.innerHTML = docLinkHtml;\n",
              "          element.appendChild(docLink);\n",
              "        }\n",
              "      </script>\n",
              "    </div>\n",
              "  </div>\n",
              "  "
            ]
          },
          "metadata": {},
          "execution_count": 35
        }
      ]
    },
    {
      "cell_type": "code",
      "source": [
        "# Calcul Tsne, détermination des clusters et calcul ARI entre vrais sections et n° de clusters\n",
        "def ARI_fct(features):\n",
        "    time1 = time.time()\n",
        "    num_labels = len(l_sect) # nombre de sections\n",
        "    tsne = manifold.TSNE( # paramètres tsne\n",
        "        n_components=2,\n",
        "        perplexity=30,\n",
        "        #n_iter=2000,\n",
        "        init=\"random\",\n",
        "        learning_rate=200,\n",
        "        random_state=42,\n",
        "    )\n",
        "    X_tsne = tsne.fit_transform(features)\n",
        "\n",
        "    # Détermination des clusters à partir des données après Tsne\n",
        "    cls = cluster.KMeans(n_clusters=num_labels, random_state=42)# initialisation kmeans\n",
        "    cls.fit(X_tsne) # fiter le kmeans sur données réduites tsne\n",
        "    ARI = np.round(metrics.adjusted_rand_score(y_sect_num, cls.labels_), 4)# calcul ari entre vrai sections et resultats clustering kmeans\n",
        "    time2 = np.round(time.time() - time1, 0)\n",
        "    print(\"ARI : \", ARI, \"time : \", time2)\n",
        "\n",
        "    return ARI, X_tsne, cls.labels_\n"
      ],
      "metadata": {
        "id": "r1k3_L5ew-Zo"
      },
      "execution_count": 50,
      "outputs": []
    },
    {
      "cell_type": "code",
      "source": [
        "# création du bag of words (CountVectorizer et Tf-idf)\n",
        "\n",
        "cvect = CountVectorizer(stop_words=stop_w, max_df=0.95, min_df=1)\n",
        "ctf = TfidfVectorizer(stop_words=stop_w, max_df=0.95, min_df=1)\n",
        "\n",
        "feat = \"sentence_bow_lem\"\n",
        "cv_fit = cvect.fit(df[feat])\n",
        "ctf_fit = ctf.fit(df[feat])\n",
        "\n",
        "cv_transform = cvect.transform(df[feat])\n",
        "ctf_transform = ctf.transform(df[feat])"
      ],
      "metadata": {
        "id": "4ZkDypUjxBPK"
      },
      "execution_count": 26,
      "outputs": []
    },
    {
      "cell_type": "code",
      "source": [
        "cvect"
      ],
      "metadata": {
        "colab": {
          "base_uri": "https://localhost:8080/",
          "height": 161
        },
        "id": "eJLk5pnQrmVT",
        "outputId": "d4d218bf-8c60-4c9f-d80b-07d5364e269d"
      },
      "execution_count": 32,
      "outputs": [
        {
          "output_type": "execute_result",
          "data": {
            "text/plain": [
              "CountVectorizer(max_df=0.95,\n",
              "                stop_words=['dans', 'auras', 'au', 'ayant', 'avec', 'fussent',\n",
              "                            'me', 'j', 'ta', 'aurai', 'le', 'moi', 'étantes',\n",
              "                            'vous', 'il', 'c', 'un', 'ce', 'qu', 'toi', 'étais',\n",
              "                            'auront', 'ayante', 'soyez', 'as', 'eut', 'que',\n",
              "                            'on', 'qui', 'sommes', ...])"
            ],
            "text/html": [
              "<style>#sk-container-id-2 {color: black;background-color: white;}#sk-container-id-2 pre{padding: 0;}#sk-container-id-2 div.sk-toggleable {background-color: white;}#sk-container-id-2 label.sk-toggleable__label {cursor: pointer;display: block;width: 100%;margin-bottom: 0;padding: 0.3em;box-sizing: border-box;text-align: center;}#sk-container-id-2 label.sk-toggleable__label-arrow:before {content: \"▸\";float: left;margin-right: 0.25em;color: #696969;}#sk-container-id-2 label.sk-toggleable__label-arrow:hover:before {color: black;}#sk-container-id-2 div.sk-estimator:hover label.sk-toggleable__label-arrow:before {color: black;}#sk-container-id-2 div.sk-toggleable__content {max-height: 0;max-width: 0;overflow: hidden;text-align: left;background-color: #f0f8ff;}#sk-container-id-2 div.sk-toggleable__content pre {margin: 0.2em;color: black;border-radius: 0.25em;background-color: #f0f8ff;}#sk-container-id-2 input.sk-toggleable__control:checked~div.sk-toggleable__content {max-height: 200px;max-width: 100%;overflow: auto;}#sk-container-id-2 input.sk-toggleable__control:checked~label.sk-toggleable__label-arrow:before {content: \"▾\";}#sk-container-id-2 div.sk-estimator input.sk-toggleable__control:checked~label.sk-toggleable__label {background-color: #d4ebff;}#sk-container-id-2 div.sk-label input.sk-toggleable__control:checked~label.sk-toggleable__label {background-color: #d4ebff;}#sk-container-id-2 input.sk-hidden--visually {border: 0;clip: rect(1px 1px 1px 1px);clip: rect(1px, 1px, 1px, 1px);height: 1px;margin: -1px;overflow: hidden;padding: 0;position: absolute;width: 1px;}#sk-container-id-2 div.sk-estimator {font-family: monospace;background-color: #f0f8ff;border: 1px dotted black;border-radius: 0.25em;box-sizing: border-box;margin-bottom: 0.5em;}#sk-container-id-2 div.sk-estimator:hover {background-color: #d4ebff;}#sk-container-id-2 div.sk-parallel-item::after {content: \"\";width: 100%;border-bottom: 1px solid gray;flex-grow: 1;}#sk-container-id-2 div.sk-label:hover label.sk-toggleable__label {background-color: #d4ebff;}#sk-container-id-2 div.sk-serial::before {content: \"\";position: absolute;border-left: 1px solid gray;box-sizing: border-box;top: 0;bottom: 0;left: 50%;z-index: 0;}#sk-container-id-2 div.sk-serial {display: flex;flex-direction: column;align-items: center;background-color: white;padding-right: 0.2em;padding-left: 0.2em;position: relative;}#sk-container-id-2 div.sk-item {position: relative;z-index: 1;}#sk-container-id-2 div.sk-parallel {display: flex;align-items: stretch;justify-content: center;background-color: white;position: relative;}#sk-container-id-2 div.sk-item::before, #sk-container-id-2 div.sk-parallel-item::before {content: \"\";position: absolute;border-left: 1px solid gray;box-sizing: border-box;top: 0;bottom: 0;left: 50%;z-index: -1;}#sk-container-id-2 div.sk-parallel-item {display: flex;flex-direction: column;z-index: 1;position: relative;background-color: white;}#sk-container-id-2 div.sk-parallel-item:first-child::after {align-self: flex-end;width: 50%;}#sk-container-id-2 div.sk-parallel-item:last-child::after {align-self: flex-start;width: 50%;}#sk-container-id-2 div.sk-parallel-item:only-child::after {width: 0;}#sk-container-id-2 div.sk-dashed-wrapped {border: 1px dashed gray;margin: 0 0.4em 0.5em 0.4em;box-sizing: border-box;padding-bottom: 0.4em;background-color: white;}#sk-container-id-2 div.sk-label label {font-family: monospace;font-weight: bold;display: inline-block;line-height: 1.2em;}#sk-container-id-2 div.sk-label-container {text-align: center;}#sk-container-id-2 div.sk-container {/* jupyter's `normalize.less` sets `[hidden] { display: none; }` but bootstrap.min.css set `[hidden] { display: none !important; }` so we also need the `!important` here to be able to override the default hidden behavior on the sphinx rendered scikit-learn.org. See: https://github.com/scikit-learn/scikit-learn/issues/21755 */display: inline-block !important;position: relative;}#sk-container-id-2 div.sk-text-repr-fallback {display: none;}</style><div id=\"sk-container-id-2\" class=\"sk-top-container\"><div class=\"sk-text-repr-fallback\"><pre>CountVectorizer(max_df=0.95,\n",
              "                stop_words=[&#x27;dans&#x27;, &#x27;auras&#x27;, &#x27;au&#x27;, &#x27;ayant&#x27;, &#x27;avec&#x27;, &#x27;fussent&#x27;,\n",
              "                            &#x27;me&#x27;, &#x27;j&#x27;, &#x27;ta&#x27;, &#x27;aurai&#x27;, &#x27;le&#x27;, &#x27;moi&#x27;, &#x27;étantes&#x27;,\n",
              "                            &#x27;vous&#x27;, &#x27;il&#x27;, &#x27;c&#x27;, &#x27;un&#x27;, &#x27;ce&#x27;, &#x27;qu&#x27;, &#x27;toi&#x27;, &#x27;étais&#x27;,\n",
              "                            &#x27;auront&#x27;, &#x27;ayante&#x27;, &#x27;soyez&#x27;, &#x27;as&#x27;, &#x27;eut&#x27;, &#x27;que&#x27;,\n",
              "                            &#x27;on&#x27;, &#x27;qui&#x27;, &#x27;sommes&#x27;, ...])</pre><b>In a Jupyter environment, please rerun this cell to show the HTML representation or trust the notebook. <br />On GitHub, the HTML representation is unable to render, please try loading this page with nbviewer.org.</b></div><div class=\"sk-container\" hidden><div class=\"sk-item\"><div class=\"sk-estimator sk-toggleable\"><input class=\"sk-toggleable__control sk-hidden--visually\" id=\"sk-estimator-id-2\" type=\"checkbox\" checked><label for=\"sk-estimator-id-2\" class=\"sk-toggleable__label sk-toggleable__label-arrow\">CountVectorizer</label><div class=\"sk-toggleable__content\"><pre>CountVectorizer(max_df=0.95,\n",
              "                stop_words=[&#x27;dans&#x27;, &#x27;auras&#x27;, &#x27;au&#x27;, &#x27;ayant&#x27;, &#x27;avec&#x27;, &#x27;fussent&#x27;,\n",
              "                            &#x27;me&#x27;, &#x27;j&#x27;, &#x27;ta&#x27;, &#x27;aurai&#x27;, &#x27;le&#x27;, &#x27;moi&#x27;, &#x27;étantes&#x27;,\n",
              "                            &#x27;vous&#x27;, &#x27;il&#x27;, &#x27;c&#x27;, &#x27;un&#x27;, &#x27;ce&#x27;, &#x27;qu&#x27;, &#x27;toi&#x27;, &#x27;étais&#x27;,\n",
              "                            &#x27;auront&#x27;, &#x27;ayante&#x27;, &#x27;soyez&#x27;, &#x27;as&#x27;, &#x27;eut&#x27;, &#x27;que&#x27;,\n",
              "                            &#x27;on&#x27;, &#x27;qui&#x27;, &#x27;sommes&#x27;, ...])</pre></div></div></div></div></div>"
            ]
          },
          "metadata": {},
          "execution_count": 32
        }
      ]
    },
    {
      "cell_type": "code",
      "source": [
        "num_labels = len(l_sect)\n",
        "num_labels"
      ],
      "metadata": {
        "colab": {
          "base_uri": "https://localhost:8080/"
        },
        "id": "KWQkzh9JtaZA",
        "outputId": "562bfec5-30b1-45b6-d8f0-cc2ffad67d6c"
      },
      "execution_count": 36,
      "outputs": [
        {
          "output_type": "execute_result",
          "data": {
            "text/plain": [
              "48"
            ]
          },
          "metadata": {},
          "execution_count": 36
        }
      ]
    },
    {
      "cell_type": "code",
      "source": [
        "# Calcul Tsne, détermination des clusters et calcul ARI entre vrais sections et n° de clusters\n",
        "def ARI_fct(features):\n",
        "    time1 = time.time()\n",
        "    num_labels = len(l_sect) # nombre de sections\n",
        "  \n",
        "    # Détermination des clusters à partir des données \n",
        "    cls = cluster.KMeans(n_clusters=num_labels, random_state=42)# initialisation kmeans\n",
        "    cls.fit(features) # fiter le kmeans \n",
        "    ARI = np.round(metrics.adjusted_rand_score(y_sect_num, cls.labels_), 4)# calcul ari entre vrai sections et resultats clustering kmeans\n",
        "    time2 = np.round(time.time() - time1, 0)\n",
        "    print(\"ARI : \", ARI, \"time : \", time2)\n",
        "\n",
        "    return ARI, cls.labels_\n"
      ],
      "metadata": {
        "id": "KU4wbr2Nr8z2"
      },
      "execution_count": 33,
      "outputs": []
    },
    {
      "cell_type": "code",
      "source": [
        "# Résultats sans réduction\n",
        "print(\"CountVectorizer : \")\n",
        "print(\"-----------------\")\n",
        "ARI,  labels = ARI_fct(cv_transform)\n",
        "print()\n",
        "print(\"Tf-idf : \")\n",
        "print(\"--------\")\n",
        "ARI, labels = ARI_fct(ctf_transform)"
      ],
      "metadata": {
        "colab": {
          "base_uri": "https://localhost:8080/"
        },
        "id": "zgojOfjLskCz",
        "outputId": "b6d43ccb-f1d8-4c85-ca97-6581e981163a"
      },
      "execution_count": 34,
      "outputs": [
        {
          "output_type": "stream",
          "name": "stdout",
          "text": [
            "CountVectorizer : \n",
            "-----------------\n",
            "ARI :  -0.003 time :  3.0\n",
            "\n",
            "Tf-idf : \n",
            "--------\n",
            "ARI :  0.0044 time :  4.0\n"
          ]
        }
      ]
    },
    {
      "cell_type": "code",
      "source": [
        "# Résultats avec réduction\n",
        "print(\"CountVectorizer : \")\n",
        "print(\"-----------------\")\n",
        "ARI, X_tsne_cv, labels = ARI_fct(cv_transform)\n",
        "print()\n",
        "print(\"Tf-idf : \")\n",
        "print(\"--------\")\n",
        "ARI, X_tsne_tf, labels = ARI_fct(ctf_transform)"
      ],
      "metadata": {
        "colab": {
          "base_uri": "https://localhost:8080/"
        },
        "id": "kcZ9M5UsnS0q",
        "outputId": "be6c458b-e15f-451f-882a-07d4a5dbea39"
      },
      "execution_count": 37,
      "outputs": [
        {
          "output_type": "stream",
          "name": "stdout",
          "text": [
            "CountVectorizer : \n",
            "-----------------\n",
            "ARI :  0.0309 time :  31.0\n",
            "\n",
            "Tf-idf : \n",
            "--------\n",
            "ARI :  0.052 time :  40.0\n"
          ]
        }
      ]
    },
    {
      "cell_type": "code",
      "source": [],
      "metadata": {
        "id": "xQvpQWGhpPgM"
      },
      "execution_count": null,
      "outputs": []
    }
  ]
}